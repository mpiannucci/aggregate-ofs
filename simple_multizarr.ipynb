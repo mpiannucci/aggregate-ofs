{
 "cells": [
  {
   "cell_type": "code",
   "execution_count": 1,
   "metadata": {},
   "outputs": [
    {
     "data": {
      "text/plain": [
       "['/Users/matthewiannucci/Developer/ocean-notebooks/rtofs/rtofs.20230922.rtofs_glo_2ds_f000_diag.nc.zarr',\n",
       " '/Users/matthewiannucci/Developer/ocean-notebooks/rtofs/rtofs.20230922.rtofs_glo_2ds_f001_diag.nc.zarr',\n",
       " '/Users/matthewiannucci/Developer/ocean-notebooks/rtofs/rtofs.20230922.rtofs_glo_2ds_f002_diag.nc.zarr',\n",
       " '/Users/matthewiannucci/Developer/ocean-notebooks/rtofs/rtofs.20230922.rtofs_glo_2ds_f003_diag.nc.zarr']"
      ]
     },
     "execution_count": 1,
     "metadata": {},
     "output_type": "execute_result"
    }
   ],
   "source": [
    "import fsspec\n",
    "import ujson\n",
    "\n",
    "fs_read = fsspec.filesystem('')\n",
    "\n",
    "single_zarr_files = fs_read.glob('./rtofs/*.nc.zarr')\n",
    "single_zarr_files"
   ]
  },
  {
   "cell_type": "code",
   "execution_count": 10,
   "metadata": {},
   "outputs": [
    {
     "data": {
      "text/plain": [
       "{'.zattrs',\n",
       " '.zgroup',\n",
       " 'Date',\n",
       " 'Latitude',\n",
       " 'Longitude',\n",
       " 'MT',\n",
       " 'X',\n",
       " 'Y',\n",
       " 'mixed_layer_thickness',\n",
       " 'ssh',\n",
       " 'surface_boundary_layer_thickness',\n",
       " 'u_barotropic_velocity',\n",
       " 'v_barotropic_velocity'}"
      ]
     },
     "execution_count": 10,
     "metadata": {},
     "output_type": "execute_result"
    }
   ],
   "source": [
    "with fs_read.open(single_zarr_files[0]) as f:\n",
    "    meta = ujson.load(f)\n",
    "\n",
    "refs = meta['refs']\n",
    "set([k.split('/')[0] for k in refs.keys()])"
   ]
  },
  {
   "cell_type": "code",
   "execution_count": null,
   "metadata": {},
   "outputs": [],
   "source": []
  }
 ],
 "metadata": {
  "kernelspec": {
   "display_name": "env",
   "language": "python",
   "name": "python3"
  },
  "language_info": {
   "codemirror_mode": {
    "name": "ipython",
    "version": 3
   },
   "file_extension": ".py",
   "mimetype": "text/x-python",
   "name": "python",
   "nbconvert_exporter": "python",
   "pygments_lexer": "ipython3",
   "version": "3.10.7"
  },
  "orig_nbformat": 4
 },
 "nbformat": 4,
 "nbformat_minor": 2
}
