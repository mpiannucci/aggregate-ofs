{
 "cells": [
  {
   "cell_type": "code",
   "execution_count": 1,
   "metadata": {},
   "outputs": [
    {
     "data": {
      "text/plain": [
       "['s3://cnaps/NCSU_CNAPS_1993.nc',\n",
       " 's3://cnaps/NCSU_CNAPS_1994.nc',\n",
       " 's3://cnaps/NCSU_CNAPS_1995.nc',\n",
       " 's3://cnaps/NCSU_CNAPS_1996.nc',\n",
       " 's3://cnaps/NCSU_CNAPS_1997.nc',\n",
       " 's3://cnaps/NCSU_CNAPS_1998.nc',\n",
       " 's3://cnaps/NCSU_CNAPS_1999.nc',\n",
       " 's3://cnaps/NCSU_CNAPS_2000.nc',\n",
       " 's3://cnaps/NCSU_CNAPS_2001.nc',\n",
       " 's3://cnaps/NCSU_CNAPS_2002.nc',\n",
       " 's3://cnaps/NCSU_CNAPS_2003.nc',\n",
       " 's3://cnaps/NCSU_CNAPS_2004.nc',\n",
       " 's3://cnaps/NCSU_CNAPS_2005.nc',\n",
       " 's3://cnaps/NCSU_CNAPS_2006.nc',\n",
       " 's3://cnaps/NCSU_CNAPS_2007.nc',\n",
       " 's3://cnaps/NCSU_CNAPS_2008.nc',\n",
       " 's3://cnaps/NCSU_CNAPS_2009.nc',\n",
       " 's3://cnaps/NCSU_CNAPS_2010.nc',\n",
       " 's3://cnaps/NCSU_CNAPS_2011.nc',\n",
       " 's3://cnaps/NCSU_CNAPS_2012.nc',\n",
       " 's3://cnaps/NCSU_CNAPS_2013.nc',\n",
       " 's3://cnaps/NCSU_CNAPS_2014.nc',\n",
       " 's3://cnaps/NCSU_CNAPS_2015.nc',\n",
       " 's3://cnaps/NCSU_CNAPS_2016.nc',\n",
       " 's3://cnaps/NCSU_CNAPS_2017.nc',\n",
       " 's3://cnaps/NCSU_CNAPS_2018.nc',\n",
       " 's3://cnaps/NCSU_CNAPS_2019.nc',\n",
       " 's3://cnaps/NCSU_CNAPS_2020.nc',\n",
       " 's3://cnaps/NCSU_CNAPS_2021.nc',\n",
       " 's3://cnaps/NCSU_CNAPS_2022.nc']"
      ]
     },
     "execution_count": 1,
     "metadata": {},
     "output_type": "execute_result"
    }
   ],
   "source": [
    "import fsspec\n",
    "\n",
    "fs_read = fsspec.filesystem('s3', anon=True, skip_instance_cache=True, use_ssl=True, endpoint_url='https://cnaps-s3.axds.co/') \n",
    "fs_write = fsspec.filesystem('')\n",
    "\n",
    "cnaps_files = fs_read.glob('s3://cnaps/*.nc')\n",
    "\n",
    "cnaps_files = sorted(['s3://'+f for f in cnaps_files])\n",
    "cnaps_files\n"
   ]
  },
  {
   "cell_type": "code",
   "execution_count": 4,
   "metadata": {},
   "outputs": [],
   "source": [
    "import ujson\n",
    "from kerchunk.hdf import SingleHdf5ToZarr\n",
    "\n",
    "def generate_json(f):\n",
    "    outname = f + '.json'\n",
    "    \n",
    "    with fs_read.open(f) as ifile:\n",
    "        chunks = SingleHdf5ToZarr(ifile, f)\n",
    "        with fs_write.open(f'cnaps/{outname}', 'w') as ofile:\n",
    "            ofile.write(ujson.dumps(chunks.translate()))\n",
    "\n",
    "    return outname"
   ]
  },
  {
   "cell_type": "code",
   "execution_count": 5,
   "metadata": {},
   "outputs": [
    {
     "name": "stdout",
     "output_type": "stream",
     "text": [
      "Generating Zarr metadata for s3://cnaps/NCSU_CNAPS_1993.nc\n"
     ]
    },
    {
     "ename": "OSError",
     "evalue": "Unable to open file (file signature not found)",
     "output_type": "error",
     "traceback": [
      "\u001b[0;31m---------------------------------------------------------------------------\u001b[0m",
      "\u001b[0;31mOSError\u001b[0m                                   Traceback (most recent call last)",
      "\u001b[1;32m/Users/matthewiannucci/Developer/ocean-notebooks/cnaps.ipynb Cell 3\u001b[0m line \u001b[0;36m2\n\u001b[1;32m      <a href='vscode-notebook-cell:/Users/matthewiannucci/Developer/ocean-notebooks/cnaps.ipynb#W3sZmlsZQ%3D%3D?line=0'>1</a>\u001b[0m \u001b[39mprint\u001b[39m(\u001b[39mf\u001b[39m\u001b[39m'\u001b[39m\u001b[39mGenerating Zarr metadata for \u001b[39m\u001b[39m{\u001b[39;00mcnaps_files[\u001b[39m0\u001b[39m]\u001b[39m}\u001b[39;00m\u001b[39m'\u001b[39m)\n\u001b[0;32m----> <a href='vscode-notebook-cell:/Users/matthewiannucci/Developer/ocean-notebooks/cnaps.ipynb#W3sZmlsZQ%3D%3D?line=1'>2</a>\u001b[0m \u001b[39mprint\u001b[39m(\u001b[39mf\u001b[39m\u001b[39m'\u001b[39m\u001b[39mWrote Zarr metadata to \u001b[39m\u001b[39m{\u001b[39;00mgenerate_json(cnaps_files[\u001b[39m0\u001b[39;49m])\u001b[39m}\u001b[39;00m\u001b[39m'\u001b[39m)\n",
      "\u001b[1;32m/Users/matthewiannucci/Developer/ocean-notebooks/cnaps.ipynb Cell 3\u001b[0m line \u001b[0;36m8\n\u001b[1;32m      <a href='vscode-notebook-cell:/Users/matthewiannucci/Developer/ocean-notebooks/cnaps.ipynb#W3sZmlsZQ%3D%3D?line=4'>5</a>\u001b[0m outname \u001b[39m=\u001b[39m f \u001b[39m+\u001b[39m \u001b[39m'\u001b[39m\u001b[39m.json\u001b[39m\u001b[39m'\u001b[39m\n\u001b[1;32m      <a href='vscode-notebook-cell:/Users/matthewiannucci/Developer/ocean-notebooks/cnaps.ipynb#W3sZmlsZQ%3D%3D?line=6'>7</a>\u001b[0m \u001b[39mwith\u001b[39;00m fs_read\u001b[39m.\u001b[39mopen(f) \u001b[39mas\u001b[39;00m ifile:\n\u001b[0;32m----> <a href='vscode-notebook-cell:/Users/matthewiannucci/Developer/ocean-notebooks/cnaps.ipynb#W3sZmlsZQ%3D%3D?line=7'>8</a>\u001b[0m     chunks \u001b[39m=\u001b[39m SingleHdf5ToZarr(ifile, f)\n\u001b[1;32m      <a href='vscode-notebook-cell:/Users/matthewiannucci/Developer/ocean-notebooks/cnaps.ipynb#W3sZmlsZQ%3D%3D?line=8'>9</a>\u001b[0m     \u001b[39mwith\u001b[39;00m fs_write\u001b[39m.\u001b[39mopen(\u001b[39mf\u001b[39m\u001b[39m'\u001b[39m\u001b[39mcnaps/\u001b[39m\u001b[39m{\u001b[39;00moutname\u001b[39m}\u001b[39;00m\u001b[39m'\u001b[39m, \u001b[39m'\u001b[39m\u001b[39mw\u001b[39m\u001b[39m'\u001b[39m) \u001b[39mas\u001b[39;00m ofile:\n\u001b[1;32m     <a href='vscode-notebook-cell:/Users/matthewiannucci/Developer/ocean-notebooks/cnaps.ipynb#W3sZmlsZQ%3D%3D?line=9'>10</a>\u001b[0m         ofile\u001b[39m.\u001b[39mwrite(ujson\u001b[39m.\u001b[39mdumps(chunks\u001b[39m.\u001b[39mtranslate()))\n",
      "File \u001b[0;32m~/Developer/ocean-notebooks/env/lib/python3.10/site-packages/kerchunk/hdf.py:92\u001b[0m, in \u001b[0;36mSingleHdf5ToZarr.__init__\u001b[0;34m(self, h5f, url, spec, inline_threshold, storage_options, error, vlen_encode)\u001b[0m\n\u001b[1;32m     90\u001b[0m     \u001b[39mraise\u001b[39;00m \u001b[39mNotImplementedError\u001b[39;00m\n\u001b[1;32m     91\u001b[0m \u001b[39mself\u001b[39m\u001b[39m.\u001b[39mvlen \u001b[39m=\u001b[39m vlen_encode\n\u001b[0;32m---> 92\u001b[0m \u001b[39mself\u001b[39m\u001b[39m.\u001b[39m_h5f \u001b[39m=\u001b[39m h5py\u001b[39m.\u001b[39;49mFile(\u001b[39mself\u001b[39;49m\u001b[39m.\u001b[39;49minput_file, mode\u001b[39m=\u001b[39;49m\u001b[39m\"\u001b[39;49m\u001b[39mr\u001b[39;49m\u001b[39m\"\u001b[39;49m)\n\u001b[1;32m     94\u001b[0m \u001b[39mself\u001b[39m\u001b[39m.\u001b[39mstore \u001b[39m=\u001b[39m {}\n\u001b[1;32m     95\u001b[0m \u001b[39mself\u001b[39m\u001b[39m.\u001b[39m_zroot \u001b[39m=\u001b[39m zarr\u001b[39m.\u001b[39mgroup(store\u001b[39m=\u001b[39m\u001b[39mself\u001b[39m\u001b[39m.\u001b[39mstore, overwrite\u001b[39m=\u001b[39m\u001b[39mTrue\u001b[39;00m)\n",
      "File \u001b[0;32m~/Developer/ocean-notebooks/env/lib/python3.10/site-packages/h5py/_hl/files.py:533\u001b[0m, in \u001b[0;36mFile.__init__\u001b[0;34m(self, name, mode, driver, libver, userblock_size, swmr, rdcc_nslots, rdcc_nbytes, rdcc_w0, track_order, fs_strategy, fs_persist, fs_threshold, fs_page_size, page_buf_size, min_meta_keep, min_raw_keep, locking, alignment_threshold, alignment_interval, **kwds)\u001b[0m\n\u001b[1;32m    525\u001b[0m     fapl \u001b[39m=\u001b[39m make_fapl(driver, libver, rdcc_nslots, rdcc_nbytes, rdcc_w0,\n\u001b[1;32m    526\u001b[0m                      locking, page_buf_size, min_meta_keep, min_raw_keep,\n\u001b[1;32m    527\u001b[0m                      alignment_threshold\u001b[39m=\u001b[39malignment_threshold,\n\u001b[1;32m    528\u001b[0m                      alignment_interval\u001b[39m=\u001b[39malignment_interval,\n\u001b[1;32m    529\u001b[0m                      \u001b[39m*\u001b[39m\u001b[39m*\u001b[39mkwds)\n\u001b[1;32m    530\u001b[0m     fcpl \u001b[39m=\u001b[39m make_fcpl(track_order\u001b[39m=\u001b[39mtrack_order, fs_strategy\u001b[39m=\u001b[39mfs_strategy,\n\u001b[1;32m    531\u001b[0m                      fs_persist\u001b[39m=\u001b[39mfs_persist, fs_threshold\u001b[39m=\u001b[39mfs_threshold,\n\u001b[1;32m    532\u001b[0m                      fs_page_size\u001b[39m=\u001b[39mfs_page_size)\n\u001b[0;32m--> 533\u001b[0m     fid \u001b[39m=\u001b[39m make_fid(name, mode, userblock_size, fapl, fcpl, swmr\u001b[39m=\u001b[39;49mswmr)\n\u001b[1;32m    535\u001b[0m \u001b[39mif\u001b[39;00m \u001b[39misinstance\u001b[39m(libver, \u001b[39mtuple\u001b[39m):\n\u001b[1;32m    536\u001b[0m     \u001b[39mself\u001b[39m\u001b[39m.\u001b[39m_libver \u001b[39m=\u001b[39m libver\n",
      "File \u001b[0;32m~/Developer/ocean-notebooks/env/lib/python3.10/site-packages/h5py/_hl/files.py:226\u001b[0m, in \u001b[0;36mmake_fid\u001b[0;34m(name, mode, userblock_size, fapl, fcpl, swmr)\u001b[0m\n\u001b[1;32m    224\u001b[0m     \u001b[39mif\u001b[39;00m swmr \u001b[39mand\u001b[39;00m swmr_support:\n\u001b[1;32m    225\u001b[0m         flags \u001b[39m|\u001b[39m\u001b[39m=\u001b[39m h5f\u001b[39m.\u001b[39mACC_SWMR_READ\n\u001b[0;32m--> 226\u001b[0m     fid \u001b[39m=\u001b[39m h5f\u001b[39m.\u001b[39;49mopen(name, flags, fapl\u001b[39m=\u001b[39;49mfapl)\n\u001b[1;32m    227\u001b[0m \u001b[39melif\u001b[39;00m mode \u001b[39m==\u001b[39m \u001b[39m'\u001b[39m\u001b[39mr+\u001b[39m\u001b[39m'\u001b[39m:\n\u001b[1;32m    228\u001b[0m     fid \u001b[39m=\u001b[39m h5f\u001b[39m.\u001b[39mopen(name, h5f\u001b[39m.\u001b[39mACC_RDWR, fapl\u001b[39m=\u001b[39mfapl)\n",
      "File \u001b[0;32mh5py/_objects.pyx:54\u001b[0m, in \u001b[0;36mh5py._objects.with_phil.wrapper\u001b[0;34m()\u001b[0m\n",
      "File \u001b[0;32mh5py/_objects.pyx:55\u001b[0m, in \u001b[0;36mh5py._objects.with_phil.wrapper\u001b[0;34m()\u001b[0m\n",
      "File \u001b[0;32mh5py/h5f.pyx:106\u001b[0m, in \u001b[0;36mh5py.h5f.open\u001b[0;34m()\u001b[0m\n",
      "\u001b[0;31mOSError\u001b[0m: Unable to open file (file signature not found)"
     ]
    }
   ],
   "source": [
    "print(f'Generating Zarr metadata for {cnaps_files[0]}')\n",
    "print(f'Wrote Zarr metadata to {generate_json(cnaps_files[0])}')"
   ]
  },
  {
   "cell_type": "code",
   "execution_count": null,
   "metadata": {},
   "outputs": [],
   "source": []
  }
 ],
 "metadata": {
  "kernelspec": {
   "display_name": "env",
   "language": "python",
   "name": "python3"
  },
  "language_info": {
   "codemirror_mode": {
    "name": "ipython",
    "version": 3
   },
   "file_extension": ".py",
   "mimetype": "text/x-python",
   "name": "python",
   "nbconvert_exporter": "python",
   "pygments_lexer": "ipython3",
   "version": "3.10.7"
  },
  "orig_nbformat": 4
 },
 "nbformat": 4,
 "nbformat_minor": 2
}
