{
 "cells": [
  {
   "cell_type": "code",
   "execution_count": 1,
   "metadata": {},
   "outputs": [
    {
     "data": {
      "text/plain": [
       "['s3://cnaps/NCSU_CNAPS_1993.nc',\n",
       " 's3://cnaps/NCSU_CNAPS_1994.nc',\n",
       " 's3://cnaps/NCSU_CNAPS_1995.nc',\n",
       " 's3://cnaps/NCSU_CNAPS_1996.nc',\n",
       " 's3://cnaps/NCSU_CNAPS_1997.nc',\n",
       " 's3://cnaps/NCSU_CNAPS_1998.nc',\n",
       " 's3://cnaps/NCSU_CNAPS_1999.nc',\n",
       " 's3://cnaps/NCSU_CNAPS_2000.nc',\n",
       " 's3://cnaps/NCSU_CNAPS_2001.nc',\n",
       " 's3://cnaps/NCSU_CNAPS_2002.nc',\n",
       " 's3://cnaps/NCSU_CNAPS_2003.nc',\n",
       " 's3://cnaps/NCSU_CNAPS_2004.nc',\n",
       " 's3://cnaps/NCSU_CNAPS_2005.nc',\n",
       " 's3://cnaps/NCSU_CNAPS_2006.nc',\n",
       " 's3://cnaps/NCSU_CNAPS_2007.nc',\n",
       " 's3://cnaps/NCSU_CNAPS_2008.nc',\n",
       " 's3://cnaps/NCSU_CNAPS_2009.nc',\n",
       " 's3://cnaps/NCSU_CNAPS_2010.nc',\n",
       " 's3://cnaps/NCSU_CNAPS_2011.nc',\n",
       " 's3://cnaps/NCSU_CNAPS_2012.nc',\n",
       " 's3://cnaps/NCSU_CNAPS_2013.nc',\n",
       " 's3://cnaps/NCSU_CNAPS_2014.nc',\n",
       " 's3://cnaps/NCSU_CNAPS_2015.nc',\n",
       " 's3://cnaps/NCSU_CNAPS_2016.nc',\n",
       " 's3://cnaps/NCSU_CNAPS_2017.nc',\n",
       " 's3://cnaps/NCSU_CNAPS_2018.nc',\n",
       " 's3://cnaps/NCSU_CNAPS_2019.nc',\n",
       " 's3://cnaps/NCSU_CNAPS_2020.nc',\n",
       " 's3://cnaps/NCSU_CNAPS_2021.nc',\n",
       " 's3://cnaps/NCSU_CNAPS_2022.nc']"
      ]
     },
     "execution_count": 1,
     "metadata": {},
     "output_type": "execute_result"
    }
   ],
   "source": [
    "import fsspec\n",
    "\n",
    "fs_read = fsspec.filesystem('s3', anon=True, skip_instance_cache=True, use_ssl=True, endpoint_url='https://cnaps-s3.axds.co/') \n",
    "cnaps_files = fs_read.glob('s3://cnaps/*.nc')\n",
    "\n",
    "cnaps_files = sorted(['s3://'+f for f in cnaps_files])\n",
    "cnaps_files\n"
   ]
  },
  {
   "cell_type": "code",
   "execution_count": null,
   "metadata": {},
   "outputs": [],
   "source": []
  }
 ],
 "metadata": {
  "kernelspec": {
   "display_name": "env",
   "language": "python",
   "name": "python3"
  },
  "language_info": {
   "codemirror_mode": {
    "name": "ipython",
    "version": 3
   },
   "file_extension": ".py",
   "mimetype": "text/x-python",
   "name": "python",
   "nbconvert_exporter": "python",
   "pygments_lexer": "ipython3",
   "version": "3.10.7"
  },
  "orig_nbformat": 4
 },
 "nbformat": 4,
 "nbformat_minor": 2
}
